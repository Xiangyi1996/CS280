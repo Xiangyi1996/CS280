{
 "cells": [
  {
   "cell_type": "code",
   "execution_count": 1,
   "metadata": {},
   "outputs": [
    {
     "name": "stderr",
     "output_type": "stream",
     "text": [
      "/Users/xiangyi/anaconda3/envs/pytorch_gpu/lib/python3.6/site-packages/sklearn/cross_validation.py:41: DeprecationWarning: This module was deprecated in version 0.18 in favor of the model_selection module into which all the refactored classes and functions are moved. Also note that the interface of the new CV iterators are different from that of this module. This module will be removed in 0.20.\n",
      "  \"This module will be removed in 0.20.\", DeprecationWarning)\n"
     ]
    }
   ],
   "source": [
    "from sklearn import datasets\n",
    "import numpy as np\n",
    "from sklearn.cross_validation import train_test_split\n",
    "import matplotlib.pyplot as plt\n",
    "import random\n",
    "%matplotlib inline\n",
    "from numpy import random\n",
    "\n",
    "np.random.seed(0)\n",
    "random.seed(0)"
   ]
  },
  {
   "cell_type": "code",
   "execution_count": 2,
   "metadata": {
    "scrolled": true
   },
   "outputs": [
    {
     "name": "stdout",
     "output_type": "stream",
     "text": [
      "<class 'numpy.ndarray'>\n",
      "X_Shape: (150, 4)\n",
      "y_Shape: (150,)\n",
      "Label Space: [0 1 2]\n"
     ]
    },
    {
     "data": {
      "text/plain": [
       "3"
      ]
     },
     "execution_count": 2,
     "metadata": {},
     "output_type": "execute_result"
    }
   ],
   "source": [
    "iris = datasets.load_iris()\n",
    "X = iris.data\n",
    "print(type(X))\n",
    "y = iris.target\n",
    "\n",
    "# for i in range(y.shape[0]):\n",
    "#     if y[i]==2:\n",
    "#         np.delete(y,i)\n",
    "#y = np.array(y).reshape(-1,1)      \n",
    "print('X_Shape:', X.shape)\n",
    "print('y_Shape:', y.shape)\n",
    "print('Label Space:', np.unique(y))#unique函数去除其中重复的元素，并按元素由小到大返回一个新的无元素重复的元组或者列\n",
    "num_cls = np.unique(y).shape[0]\n",
    "num_cls"
   ]
  },
  {
   "cell_type": "code",
   "execution_count": 3,
   "metadata": {
    "collapsed": true
   },
   "outputs": [],
   "source": [
    "def init_w_b(dim,num_cls):\n",
    "    w=random.rand(4,3)\n",
    "    b=0\n",
    "    #print(w.shape)\n",
    "    \n",
    "    return w"
   ]
  },
  {
   "cell_type": "code",
   "execution_count": 5,
   "metadata": {},
   "outputs": [
    {
     "name": "stdout",
     "output_type": "stream",
     "text": [
      "X_train_Shape: (105, 4)\n",
      "y_train_Shape: (105,)\n",
      "X_test_Shape: (45, 4)\n",
      "y_test_Shape: (45,)\n",
      "num_train 105\n",
      "num_test 45\n",
      "num_cls 3\n",
      "w_dim 4\n"
     ]
    }
   ],
   "source": [
    "## split the training set and test set\n",
    "X_train,X_test,y_train,y_test=train_test_split(X,y,test_size=0.3, random_state=0)\n",
    "print('X_train_Shape:', X_train.shape)\n",
    "print('y_train_Shape:', y_train.shape)\n",
    "print('X_test_Shape:',  X_test.shape)\n",
    "print('y_test_Shape:',  y_test.shape)\n",
    "num_train = X_train.shape[0]\n",
    "num_test = X_test.shape[0]\n",
    "#num_cls = y_train.shape[1]\n",
    "w_dim = X_train.shape[1]\n",
    "print('num_train',num_train)\n",
    "print('num_test',num_test)\n",
    "print('num_cls',num_cls)\n",
    "print('w_dim',w_dim)\n",
    "w = init_w_b(w_dim,num_cls) #4*3"
   ]
  },
  {
   "cell_type": "code",
   "execution_count": 6,
   "metadata": {
    "collapsed": true
   },
   "outputs": [],
   "source": [
    "def predict(w,X):\n",
    "    y_pred = np.zeros(X.shape[0])\n",
    "    score = X.dot(w)\n",
    "    y_pred = np.argmax(score, axis=1)\n",
    "    return y_pred"
   ]
  },
  {
   "cell_type": "markdown",
   "metadata": {},
   "source": [
    "params, grads, costs = optimize(w, b, X_train, y_train, num_iter= 1000, lr = 0.009)\n",
    "\n",
    "print (\"w = \" + str(params[\"w\"]))\n",
    "print (\"b = \" + str(params[\"b\"]))\n",
    "print (\"dw = \" + str(grads[\"dw\"]))\n",
    "print (\"db = \" + str(grads[\"db\"]))"
   ]
  },
  {
   "cell_type": "code",
   "execution_count": 7,
   "metadata": {
    "collapsed": true
   },
   "outputs": [],
   "source": [
    "def model(X_train,X_test,y_train,y_test):\n",
    "    #grad,cost = propagate(X_train,y_train,w,b)\n",
    "    \n",
    "    for i in range(num_train):\n",
    "        #print('y[i]',y[i],'X[i]',X[i],'w',w,'b',b)\n",
    "        score = X_train[i].dot(w) # 1*3\n",
    "        #print('y_train[i]:',y_train[i],'\\nX_train[i]:',X_train[i],'\\nw:',w)\n",
    "        \n",
    "        #print('score',score,'\\nscore.max()',score.max(),'\\nscore[y_train[i]]:',score[y_train[i]])\n",
    "       # print(score)\n",
    "        \n",
    "        if score.max() != score[y_train[i]]: #1 * 4 * 4 *3 = 1*3\n",
    "            if score.max() > score[y_train[i]]:\n",
    "                w[:,np.argmax(score)] -=  X_train[i].T \n",
    "                w[:,y_train[i]] +=  X_train[i].T\n",
    "            if score.max() < score[y_train[i]]:\n",
    "                w[:,np.argmax(score)] +=  X_train[i].T\n",
    "                w[:,y_train[i]] -=  X_train[i].T\n",
    "            \n",
    "    y_pred_train = predict(w,X_train)\n",
    "    y_pred_test = predict(w,X_test)\n",
    "    train_acc = np.mean(y_pred_train == y_train)\n",
    "    test_acc = np.mean(y_pred_test == y_test)\n",
    "#     print('train_acc is ', train_acc)\n",
    "#     print('test_acc is ', test_acc)\n",
    "    return train_acc,test_acc\n",
    "    "
   ]
  },
  {
   "cell_type": "code",
   "execution_count": 15,
   "metadata": {},
   "outputs": [
    {
     "name": "stdout",
     "output_type": "stream",
     "text": [
      "epoch: 0 traing_acc:0.924 test_acc:0.911\n",
      "epoch: 1 traing_acc:0.933 test_acc:0.911\n",
      "epoch: 2 traing_acc:0.933 test_acc:0.911\n",
      "epoch: 3 traing_acc:0.933 test_acc:0.911\n",
      "epoch: 4 traing_acc:0.962 test_acc:0.933\n",
      "epoch: 5 traing_acc:0.848 test_acc:0.867\n",
      "epoch: 6 traing_acc:0.924 test_acc:0.911\n",
      "epoch: 7 traing_acc:0.962 test_acc:0.956\n",
      "epoch: 8 traing_acc:0.924 test_acc:0.911\n",
      "epoch: 9 traing_acc:0.962 test_acc:0.956\n",
      "epoch: 10 traing_acc:0.924 test_acc:0.911\n",
      "epoch: 11 traing_acc:0.962 test_acc:0.933\n",
      "epoch: 12 traing_acc:0.848 test_acc:0.911\n",
      "epoch: 13 traing_acc:0.924 test_acc:0.911\n",
      "epoch: 14 traing_acc:0.924 test_acc:0.911\n",
      "epoch: 15 traing_acc:0.924 test_acc:0.911\n",
      "epoch: 16 traing_acc:0.924 test_acc:0.911\n",
      "epoch: 17 traing_acc:0.924 test_acc:0.911\n",
      "epoch: 18 traing_acc:0.924 test_acc:0.911\n",
      "epoch: 19 traing_acc:0.924 test_acc:0.911\n",
      "epoch: 20 traing_acc:0.924 test_acc:0.911\n",
      "epoch: 21 traing_acc:0.924 test_acc:0.911\n",
      "epoch: 22 traing_acc:0.924 test_acc:0.911\n",
      "epoch: 23 traing_acc:0.924 test_acc:0.911\n",
      "epoch: 24 traing_acc:0.924 test_acc:0.911\n",
      "epoch: 25 traing_acc:0.933 test_acc:0.911\n",
      "epoch: 26 traing_acc:0.933 test_acc:0.911\n",
      "epoch: 27 traing_acc:0.933 test_acc:0.911\n",
      "epoch: 28 traing_acc:0.933 test_acc:0.911\n",
      "epoch: 29 traing_acc:0.962 test_acc:0.933\n",
      "epoch: 30 traing_acc:0.848 test_acc:0.911\n",
      "epoch: 31 traing_acc:0.914 test_acc:0.911\n",
      "epoch: 32 traing_acc:0.962 test_acc:0.956\n",
      "epoch: 33 traing_acc:0.914 test_acc:0.911\n",
      "epoch: 34 traing_acc:0.914 test_acc:0.911\n",
      "epoch: 35 traing_acc:0.924 test_acc:0.911\n",
      "epoch: 36 traing_acc:0.924 test_acc:0.911\n",
      "epoch: 37 traing_acc:0.924 test_acc:0.911\n",
      "epoch: 38 traing_acc:0.924 test_acc:0.911\n",
      "epoch: 39 traing_acc:0.924 test_acc:0.911\n",
      "epoch: 40 traing_acc:0.924 test_acc:0.911\n",
      "epoch: 41 traing_acc:0.924 test_acc:0.911\n",
      "epoch: 42 traing_acc:0.924 test_acc:0.911\n",
      "epoch: 43 traing_acc:0.933 test_acc:0.911\n",
      "epoch: 44 traing_acc:0.933 test_acc:0.911\n",
      "epoch: 45 traing_acc:0.933 test_acc:0.911\n",
      "epoch: 46 traing_acc:0.933 test_acc:0.911\n",
      "epoch: 47 traing_acc:0.857 test_acc:0.889\n",
      "epoch: 48 traing_acc:0.924 test_acc:0.911\n",
      "epoch: 49 traing_acc:0.924 test_acc:0.911\n",
      "epoch: 50 traing_acc:0.924 test_acc:0.911\n",
      "epoch: 51 traing_acc:0.857 test_acc:0.867\n",
      "epoch: 52 traing_acc:0.848 test_acc:0.867\n",
      "epoch: 53 traing_acc:0.867 test_acc:0.911\n",
      "epoch: 54 traing_acc:0.924 test_acc:0.911\n",
      "epoch: 55 traing_acc:0.924 test_acc:0.911\n",
      "epoch: 56 traing_acc:0.924 test_acc:0.911\n",
      "epoch: 57 traing_acc:0.924 test_acc:0.911\n",
      "epoch: 58 traing_acc:0.924 test_acc:0.911\n",
      "epoch: 59 traing_acc:0.924 test_acc:0.911\n",
      "epoch: 60 traing_acc:0.924 test_acc:0.911\n",
      "epoch: 61 traing_acc:0.924 test_acc:0.911\n",
      "epoch: 62 traing_acc:0.924 test_acc:0.911\n",
      "epoch: 63 traing_acc:0.933 test_acc:0.911\n",
      "epoch: 64 traing_acc:0.933 test_acc:0.911\n",
      "epoch: 65 traing_acc:0.933 test_acc:0.911\n",
      "epoch: 66 traing_acc:0.933 test_acc:0.911\n",
      "epoch: 67 traing_acc:0.933 test_acc:0.911\n",
      "epoch: 68 traing_acc:0.962 test_acc:0.933\n",
      "epoch: 69 traing_acc:0.857 test_acc:0.911\n",
      "epoch: 70 traing_acc:0.924 test_acc:0.911\n",
      "epoch: 71 traing_acc:0.962 test_acc:0.956\n",
      "epoch: 72 traing_acc:0.857 test_acc:0.933\n",
      "epoch: 73 traing_acc:0.924 test_acc:0.911\n",
      "epoch: 74 traing_acc:0.924 test_acc:0.911\n",
      "epoch: 75 traing_acc:0.924 test_acc:0.911\n",
      "epoch: 76 traing_acc:0.924 test_acc:0.911\n",
      "epoch: 77 traing_acc:0.924 test_acc:0.911\n",
      "epoch: 78 traing_acc:0.924 test_acc:0.911\n",
      "epoch: 79 traing_acc:0.924 test_acc:0.911\n",
      "epoch: 80 traing_acc:0.924 test_acc:0.911\n",
      "epoch: 81 traing_acc:0.933 test_acc:0.911\n",
      "epoch: 82 traing_acc:0.933 test_acc:0.911\n",
      "epoch: 83 traing_acc:0.933 test_acc:0.911\n",
      "epoch: 84 traing_acc:0.933 test_acc:0.911\n",
      "epoch: 85 traing_acc:0.933 test_acc:0.911\n",
      "epoch: 86 traing_acc:0.962 test_acc:0.933\n",
      "epoch: 87 traing_acc:0.857 test_acc:0.911\n",
      "epoch: 88 traing_acc:0.924 test_acc:0.911\n",
      "epoch: 89 traing_acc:0.962 test_acc:0.956\n",
      "epoch: 90 traing_acc:0.857 test_acc:0.933\n",
      "epoch: 91 traing_acc:0.924 test_acc:0.911\n",
      "epoch: 92 traing_acc:0.924 test_acc:0.911\n",
      "epoch: 93 traing_acc:0.924 test_acc:0.911\n",
      "epoch: 94 traing_acc:0.924 test_acc:0.911\n",
      "epoch: 95 traing_acc:0.924 test_acc:0.911\n",
      "epoch: 96 traing_acc:0.924 test_acc:0.911\n",
      "epoch: 97 traing_acc:0.924 test_acc:0.911\n",
      "epoch: 98 traing_acc:0.924 test_acc:0.911\n",
      "epoch: 99 traing_acc:0.933 test_acc:0.911\n",
      "epoch: 100 traing_acc:0.933 test_acc:0.911\n",
      "epoch: 101 traing_acc:0.933 test_acc:0.911\n",
      "epoch: 102 traing_acc:0.933 test_acc:0.911\n",
      "epoch: 103 traing_acc:0.933 test_acc:0.911\n",
      "epoch: 104 traing_acc:0.962 test_acc:0.933\n",
      "epoch: 105 traing_acc:0.857 test_acc:0.911\n",
      "epoch: 106 traing_acc:0.924 test_acc:0.911\n",
      "epoch: 107 traing_acc:0.962 test_acc:0.956\n",
      "epoch: 108 traing_acc:0.857 test_acc:0.933\n",
      "epoch: 109 traing_acc:0.924 test_acc:0.911\n",
      "epoch: 110 traing_acc:0.924 test_acc:0.911\n",
      "epoch: 111 traing_acc:0.924 test_acc:0.911\n",
      "epoch: 112 traing_acc:0.924 test_acc:0.911\n",
      "epoch: 113 traing_acc:0.924 test_acc:0.911\n",
      "epoch: 114 traing_acc:0.924 test_acc:0.911\n",
      "epoch: 115 traing_acc:0.924 test_acc:0.911\n",
      "epoch: 116 traing_acc:0.924 test_acc:0.911\n",
      "epoch: 117 traing_acc:0.933 test_acc:0.911\n",
      "epoch: 118 traing_acc:0.933 test_acc:0.911\n",
      "epoch: 119 traing_acc:0.933 test_acc:0.911\n",
      "epoch: 120 traing_acc:0.933 test_acc:0.911\n",
      "epoch: 121 traing_acc:0.933 test_acc:0.911\n",
      "epoch: 122 traing_acc:0.962 test_acc:0.933\n",
      "epoch: 123 traing_acc:0.848 test_acc:0.911\n",
      "epoch: 124 traing_acc:0.914 test_acc:0.911\n",
      "epoch: 125 traing_acc:0.867 test_acc:0.933\n",
      "epoch: 126 traing_acc:0.867 test_acc:0.911\n",
      "epoch: 127 traing_acc:0.848 test_acc:0.889\n",
      "epoch: 128 traing_acc:0.867 test_acc:0.933\n",
      "epoch: 129 traing_acc:0.924 test_acc:0.911\n",
      "epoch: 130 traing_acc:0.924 test_acc:0.911\n",
      "epoch: 131 traing_acc:0.924 test_acc:0.911\n",
      "epoch: 132 traing_acc:0.924 test_acc:0.911\n",
      "epoch: 133 traing_acc:0.924 test_acc:0.911\n",
      "epoch: 134 traing_acc:0.924 test_acc:0.911\n",
      "epoch: 135 traing_acc:0.924 test_acc:0.911\n",
      "epoch: 136 traing_acc:0.924 test_acc:0.911\n",
      "epoch: 137 traing_acc:0.933 test_acc:0.911\n",
      "epoch: 138 traing_acc:0.933 test_acc:0.911\n",
      "epoch: 139 traing_acc:0.933 test_acc:0.911\n",
      "epoch: 140 traing_acc:0.933 test_acc:0.911\n",
      "epoch: 141 traing_acc:0.933 test_acc:0.911\n",
      "epoch: 142 traing_acc:0.933 test_acc:0.911\n",
      "epoch: 143 traing_acc:0.962 test_acc:0.956\n",
      "epoch: 144 traing_acc:0.857 test_acc:0.933\n",
      "epoch: 145 traing_acc:0.924 test_acc:0.911\n",
      "epoch: 146 traing_acc:0.962 test_acc:0.956\n",
      "epoch: 147 traing_acc:0.857 test_acc:0.933\n",
      "epoch: 148 traing_acc:0.924 test_acc:0.911\n",
      "epoch: 149 traing_acc:0.924 test_acc:0.911\n",
      "epoch: 150 traing_acc:0.924 test_acc:0.911\n",
      "epoch: 151 traing_acc:0.924 test_acc:0.911\n",
      "epoch: 152 traing_acc:0.924 test_acc:0.911\n",
      "epoch: 153 traing_acc:0.924 test_acc:0.911\n",
      "epoch: 154 traing_acc:0.924 test_acc:0.911\n",
      "epoch: 155 traing_acc:0.933 test_acc:0.911\n",
      "epoch: 156 traing_acc:0.933 test_acc:0.911\n",
      "epoch: 157 traing_acc:0.933 test_acc:0.911\n",
      "epoch: 158 traing_acc:0.933 test_acc:0.911\n",
      "epoch: 159 traing_acc:0.933 test_acc:0.911\n",
      "epoch: 160 traing_acc:0.933 test_acc:0.911\n",
      "epoch: 161 traing_acc:0.962 test_acc:0.956\n",
      "epoch: 162 traing_acc:0.857 test_acc:0.933\n",
      "epoch: 163 traing_acc:0.924 test_acc:0.911\n",
      "epoch: 164 traing_acc:0.933 test_acc:0.911\n",
      "epoch: 165 traing_acc:0.962 test_acc:0.933\n",
      "epoch: 166 traing_acc:0.857 test_acc:0.933\n",
      "epoch: 167 traing_acc:0.924 test_acc:0.911\n",
      "epoch: 168 traing_acc:0.933 test_acc:0.911\n",
      "epoch: 169 traing_acc:0.943 test_acc:0.911\n",
      "epoch: 170 traing_acc:0.962 test_acc:0.956\n",
      "epoch: 171 traing_acc:0.857 test_acc:0.933\n",
      "epoch: 172 traing_acc:0.924 test_acc:0.911\n",
      "epoch: 173 traing_acc:0.943 test_acc:0.911\n",
      "epoch: 174 traing_acc:0.962 test_acc:0.956\n",
      "epoch: 175 traing_acc:0.857 test_acc:0.933\n",
      "epoch: 176 traing_acc:0.914 test_acc:0.911\n",
      "epoch: 177 traing_acc:0.943 test_acc:0.911\n",
      "epoch: 178 traing_acc:0.867 test_acc:0.933\n",
      "epoch: 179 traing_acc:0.924 test_acc:0.911\n",
      "epoch: 180 traing_acc:0.924 test_acc:0.911\n",
      "epoch: 181 traing_acc:0.924 test_acc:0.911\n",
      "epoch: 182 traing_acc:0.933 test_acc:0.911\n",
      "epoch: 183 traing_acc:0.867 test_acc:0.933\n",
      "epoch: 184 traing_acc:0.857 test_acc:0.911\n",
      "epoch: 185 traing_acc:0.876 test_acc:0.933\n",
      "epoch: 186 traing_acc:0.924 test_acc:0.911\n",
      "epoch: 187 traing_acc:0.924 test_acc:0.911\n",
      "epoch: 188 traing_acc:0.924 test_acc:0.911\n",
      "epoch: 189 traing_acc:0.924 test_acc:0.911\n",
      "epoch: 190 traing_acc:0.924 test_acc:0.911\n",
      "epoch: 191 traing_acc:0.924 test_acc:0.911\n",
      "epoch: 192 traing_acc:0.924 test_acc:0.911\n",
      "epoch: 193 traing_acc:0.933 test_acc:0.911\n",
      "epoch: 194 traing_acc:0.933 test_acc:0.911\n",
      "epoch: 195 traing_acc:0.933 test_acc:0.911\n",
      "epoch: 196 traing_acc:0.933 test_acc:0.911\n",
      "epoch: 197 traing_acc:0.933 test_acc:0.911\n",
      "epoch: 198 traing_acc:0.933 test_acc:0.911\n",
      "epoch: 199 traing_acc:0.962 test_acc:0.956\n",
      "epoch: 200 traing_acc:0.857 test_acc:0.933\n",
      "epoch: 201 traing_acc:0.924 test_acc:0.911\n",
      "epoch: 202 traing_acc:0.933 test_acc:0.911\n",
      "epoch: 203 traing_acc:0.943 test_acc:0.911\n",
      "epoch: 204 traing_acc:0.962 test_acc:0.956\n",
      "epoch: 205 traing_acc:0.857 test_acc:0.933\n",
      "epoch: 206 traing_acc:0.924 test_acc:0.911\n",
      "epoch: 207 traing_acc:0.943 test_acc:0.911\n",
      "epoch: 208 traing_acc:0.962 test_acc:0.956\n",
      "epoch: 209 traing_acc:0.857 test_acc:0.933\n",
      "epoch: 210 traing_acc:0.924 test_acc:0.911\n",
      "epoch: 211 traing_acc:0.943 test_acc:0.911\n",
      "epoch: 212 traing_acc:0.962 test_acc:0.956\n",
      "epoch: 213 traing_acc:0.857 test_acc:0.933\n",
      "epoch: 214 traing_acc:0.924 test_acc:0.911\n",
      "epoch: 215 traing_acc:0.924 test_acc:0.911\n",
      "epoch: 216 traing_acc:0.924 test_acc:0.911\n",
      "epoch: 217 traing_acc:0.924 test_acc:0.911\n",
      "epoch: 218 traing_acc:0.924 test_acc:0.911\n",
      "epoch: 219 traing_acc:0.924 test_acc:0.911\n",
      "epoch: 220 traing_acc:0.924 test_acc:0.911\n",
      "epoch: 221 traing_acc:0.924 test_acc:0.911\n",
      "epoch: 222 traing_acc:0.924 test_acc:0.911\n",
      "epoch: 223 traing_acc:0.933 test_acc:0.911\n",
      "epoch: 224 traing_acc:0.933 test_acc:0.911\n",
      "epoch: 225 traing_acc:0.933 test_acc:0.911\n",
      "epoch: 226 traing_acc:0.933 test_acc:0.911\n",
      "epoch: 227 traing_acc:0.933 test_acc:0.911\n",
      "epoch: 228 traing_acc:0.933 test_acc:0.911\n",
      "epoch: 229 traing_acc:0.943 test_acc:0.911\n",
      "epoch: 230 traing_acc:0.962 test_acc:0.956\n",
      "epoch: 231 traing_acc:0.857 test_acc:0.933\n",
      "epoch: 232 traing_acc:0.924 test_acc:0.911\n",
      "epoch: 233 traing_acc:0.943 test_acc:0.911\n",
      "epoch: 234 traing_acc:0.943 test_acc:0.911\n",
      "epoch: 235 traing_acc:0.962 test_acc:0.956\n",
      "epoch: 236 traing_acc:0.867 test_acc:0.933\n",
      "epoch: 237 traing_acc:0.924 test_acc:0.911\n",
      "epoch: 238 traing_acc:0.924 test_acc:0.911\n",
      "epoch: 239 traing_acc:0.924 test_acc:0.911\n",
      "epoch: 240 traing_acc:0.924 test_acc:0.911\n",
      "epoch: 241 traing_acc:0.924 test_acc:0.911\n",
      "epoch: 242 traing_acc:0.924 test_acc:0.911\n",
      "epoch: 243 traing_acc:0.924 test_acc:0.911\n",
      "epoch: 244 traing_acc:0.924 test_acc:0.911\n",
      "epoch: 245 traing_acc:0.933 test_acc:0.911\n",
      "epoch: 246 traing_acc:0.933 test_acc:0.911\n",
      "epoch: 247 traing_acc:0.933 test_acc:0.911\n",
      "epoch: 248 traing_acc:0.933 test_acc:0.911\n",
      "epoch: 249 traing_acc:0.933 test_acc:0.911\n",
      "epoch: 250 traing_acc:0.933 test_acc:0.911\n",
      "epoch: 251 traing_acc:0.943 test_acc:0.911\n",
      "epoch: 252 traing_acc:0.943 test_acc:0.911\n",
      "epoch: 253 traing_acc:0.962 test_acc:0.956\n",
      "epoch: 254 traing_acc:0.857 test_acc:0.933\n",
      "epoch: 255 traing_acc:0.914 test_acc:0.911\n",
      "epoch: 256 traing_acc:0.943 test_acc:0.911\n"
     ]
    },
    {
     "name": "stdout",
     "output_type": "stream",
     "text": [
      "epoch: 257 traing_acc:0.867 test_acc:0.933\n",
      "epoch: 258 traing_acc:0.924 test_acc:0.911\n",
      "epoch: 259 traing_acc:0.933 test_acc:0.911\n",
      "epoch: 260 traing_acc:0.933 test_acc:0.911\n",
      "epoch: 261 traing_acc:0.933 test_acc:0.911\n",
      "epoch: 262 traing_acc:0.867 test_acc:0.933\n",
      "epoch: 263 traing_acc:0.867 test_acc:0.933\n",
      "epoch: 264 traing_acc:0.924 test_acc:0.911\n",
      "epoch: 265 traing_acc:0.943 test_acc:0.911\n",
      "epoch: 266 traing_acc:0.943 test_acc:0.911\n",
      "epoch: 267 traing_acc:0.962 test_acc:0.956\n",
      "epoch: 268 traing_acc:0.876 test_acc:0.933\n",
      "epoch: 269 traing_acc:0.924 test_acc:0.911\n",
      "epoch: 270 traing_acc:0.924 test_acc:0.911\n",
      "epoch: 271 traing_acc:0.924 test_acc:0.911\n",
      "epoch: 272 traing_acc:0.924 test_acc:0.911\n",
      "epoch: 273 traing_acc:0.924 test_acc:0.911\n",
      "epoch: 274 traing_acc:0.924 test_acc:0.911\n",
      "epoch: 275 traing_acc:0.924 test_acc:0.911\n",
      "epoch: 276 traing_acc:0.933 test_acc:0.911\n",
      "epoch: 277 traing_acc:0.933 test_acc:0.911\n",
      "epoch: 278 traing_acc:0.933 test_acc:0.911\n",
      "epoch: 279 traing_acc:0.933 test_acc:0.911\n",
      "epoch: 280 traing_acc:0.933 test_acc:0.911\n",
      "epoch: 281 traing_acc:0.933 test_acc:0.911\n",
      "epoch: 282 traing_acc:0.933 test_acc:0.911\n",
      "epoch: 283 traing_acc:0.943 test_acc:0.911\n",
      "epoch: 284 traing_acc:0.943 test_acc:0.911\n",
      "epoch: 285 traing_acc:0.962 test_acc:0.956\n",
      "epoch: 286 traing_acc:0.876 test_acc:0.933\n",
      "epoch: 287 traing_acc:0.924 test_acc:0.911\n",
      "epoch: 288 traing_acc:0.943 test_acc:0.911\n",
      "epoch: 289 traing_acc:0.962 test_acc:0.956\n",
      "epoch: 290 traing_acc:0.867 test_acc:0.933\n",
      "epoch: 291 traing_acc:0.924 test_acc:0.911\n",
      "epoch: 292 traing_acc:0.943 test_acc:0.911\n",
      "epoch: 293 traing_acc:0.943 test_acc:0.933\n",
      "epoch: 294 traing_acc:0.962 test_acc:0.956\n",
      "epoch: 295 traing_acc:0.886 test_acc:0.933\n",
      "epoch: 296 traing_acc:0.924 test_acc:0.911\n",
      "epoch: 297 traing_acc:0.924 test_acc:0.911\n",
      "epoch: 298 traing_acc:0.924 test_acc:0.911\n",
      "epoch: 299 traing_acc:0.924 test_acc:0.911\n",
      "epoch: 300 traing_acc:0.924 test_acc:0.911\n",
      "epoch: 301 traing_acc:0.924 test_acc:0.911\n",
      "epoch: 302 traing_acc:0.924 test_acc:0.911\n",
      "epoch: 303 traing_acc:0.933 test_acc:0.911\n",
      "epoch: 304 traing_acc:0.933 test_acc:0.911\n",
      "epoch: 305 traing_acc:0.933 test_acc:0.911\n",
      "epoch: 306 traing_acc:0.933 test_acc:0.911\n",
      "epoch: 307 traing_acc:0.933 test_acc:0.911\n",
      "epoch: 308 traing_acc:0.933 test_acc:0.911\n",
      "epoch: 309 traing_acc:0.943 test_acc:0.911\n",
      "epoch: 310 traing_acc:0.943 test_acc:0.911\n",
      "epoch: 311 traing_acc:0.943 test_acc:0.933\n",
      "epoch: 312 traing_acc:0.962 test_acc:0.956\n",
      "epoch: 313 traing_acc:0.876 test_acc:0.933\n",
      "epoch: 314 traing_acc:0.924 test_acc:0.911\n",
      "epoch: 315 traing_acc:0.943 test_acc:0.911\n",
      "epoch: 316 traing_acc:0.962 test_acc:0.956\n",
      "epoch: 317 traing_acc:0.876 test_acc:0.933\n",
      "epoch: 318 traing_acc:0.924 test_acc:0.911\n",
      "epoch: 319 traing_acc:0.943 test_acc:0.911\n",
      "epoch: 320 traing_acc:0.943 test_acc:0.933\n",
      "epoch: 321 traing_acc:0.962 test_acc:0.956\n",
      "epoch: 322 traing_acc:0.895 test_acc:0.933\n",
      "epoch: 323 traing_acc:0.895 test_acc:0.911\n",
      "epoch: 324 traing_acc:0.924 test_acc:0.911\n",
      "epoch: 325 traing_acc:0.943 test_acc:0.911\n",
      "epoch: 326 traing_acc:0.943 test_acc:0.933\n",
      "epoch: 327 traing_acc:0.943 test_acc:0.933\n",
      "epoch: 328 traing_acc:0.962 test_acc:0.956\n",
      "epoch: 329 traing_acc:0.895 test_acc:0.933\n",
      "epoch: 330 traing_acc:0.914 test_acc:0.911\n",
      "epoch: 331 traing_acc:0.933 test_acc:0.911\n",
      "epoch: 332 traing_acc:0.943 test_acc:0.911\n",
      "epoch: 333 traing_acc:0.943 test_acc:0.911\n",
      "epoch: 334 traing_acc:0.943 test_acc:0.911\n",
      "epoch: 335 traing_acc:0.943 test_acc:0.933\n",
      "epoch: 336 traing_acc:0.895 test_acc:0.933\n",
      "epoch: 337 traing_acc:0.933 test_acc:0.911\n",
      "epoch: 338 traing_acc:0.933 test_acc:0.911\n",
      "epoch: 339 traing_acc:0.933 test_acc:0.911\n",
      "epoch: 340 traing_acc:0.933 test_acc:0.933\n",
      "epoch: 341 traing_acc:0.895 test_acc:0.933\n",
      "epoch: 342 traing_acc:0.867 test_acc:0.933\n",
      "epoch: 343 traing_acc:0.905 test_acc:0.911\n",
      "epoch: 344 traing_acc:0.924 test_acc:0.911\n",
      "epoch: 345 traing_acc:0.943 test_acc:0.911\n",
      "epoch: 346 traing_acc:0.943 test_acc:0.933\n",
      "epoch: 347 traing_acc:0.943 test_acc:0.933\n",
      "epoch: 348 traing_acc:0.962 test_acc:0.956\n",
      "epoch: 349 traing_acc:0.905 test_acc:0.933\n",
      "epoch: 350 traing_acc:0.924 test_acc:0.911\n",
      "epoch: 351 traing_acc:0.933 test_acc:0.911\n",
      "epoch: 352 traing_acc:0.943 test_acc:0.911\n",
      "epoch: 353 traing_acc:0.943 test_acc:0.911\n",
      "epoch: 354 traing_acc:0.943 test_acc:0.911\n",
      "epoch: 355 traing_acc:0.943 test_acc:0.933\n",
      "epoch: 356 traing_acc:0.962 test_acc:0.956\n",
      "epoch: 357 traing_acc:0.905 test_acc:0.933\n",
      "epoch: 358 traing_acc:0.905 test_acc:0.911\n",
      "epoch: 359 traing_acc:0.924 test_acc:0.911\n",
      "epoch: 360 traing_acc:0.943 test_acc:0.911\n",
      "epoch: 361 traing_acc:0.943 test_acc:0.911\n",
      "epoch: 362 traing_acc:0.943 test_acc:0.933\n",
      "epoch: 363 traing_acc:0.962 test_acc:0.956\n",
      "epoch: 364 traing_acc:0.895 test_acc:0.933\n",
      "epoch: 365 traing_acc:0.924 test_acc:0.911\n",
      "epoch: 366 traing_acc:0.933 test_acc:0.911\n",
      "epoch: 367 traing_acc:0.943 test_acc:0.911\n",
      "epoch: 368 traing_acc:0.943 test_acc:0.911\n",
      "epoch: 369 traing_acc:0.943 test_acc:0.911\n",
      "epoch: 370 traing_acc:0.943 test_acc:0.933\n",
      "epoch: 371 traing_acc:0.943 test_acc:0.933\n",
      "epoch: 372 traing_acc:0.838 test_acc:0.867\n",
      "epoch: 373 traing_acc:0.848 test_acc:0.889\n",
      "epoch: 374 traing_acc:0.857 test_acc:0.933\n",
      "epoch: 375 traing_acc:0.895 test_acc:0.933\n",
      "epoch: 376 traing_acc:0.924 test_acc:0.911\n",
      "epoch: 377 traing_acc:0.943 test_acc:0.911\n",
      "epoch: 378 traing_acc:0.943 test_acc:0.911\n",
      "epoch: 379 traing_acc:0.943 test_acc:0.911\n",
      "epoch: 380 traing_acc:0.943 test_acc:0.911\n",
      "epoch: 381 traing_acc:0.943 test_acc:0.933\n",
      "epoch: 382 traing_acc:0.943 test_acc:0.933\n",
      "epoch: 383 traing_acc:0.838 test_acc:0.867\n",
      "epoch: 384 traing_acc:0.838 test_acc:0.889\n",
      "epoch: 385 traing_acc:0.857 test_acc:0.933\n",
      "epoch: 386 traing_acc:0.895 test_acc:0.911\n",
      "epoch: 387 traing_acc:0.924 test_acc:0.911\n",
      "epoch: 388 traing_acc:0.943 test_acc:0.911\n",
      "epoch: 389 traing_acc:0.943 test_acc:0.911\n",
      "epoch: 390 traing_acc:0.943 test_acc:0.911\n",
      "epoch: 391 traing_acc:0.943 test_acc:0.911\n",
      "epoch: 392 traing_acc:0.943 test_acc:0.933\n",
      "epoch: 393 traing_acc:0.943 test_acc:0.933\n",
      "epoch: 394 traing_acc:0.838 test_acc:0.867\n",
      "epoch: 395 traing_acc:0.838 test_acc:0.889\n",
      "epoch: 396 traing_acc:0.857 test_acc:0.933\n",
      "epoch: 397 traing_acc:0.895 test_acc:0.911\n",
      "epoch: 398 traing_acc:0.914 test_acc:0.911\n",
      "epoch: 399 traing_acc:0.943 test_acc:0.911\n",
      "epoch: 400 traing_acc:0.943 test_acc:0.911\n",
      "epoch: 401 traing_acc:0.943 test_acc:0.911\n",
      "epoch: 402 traing_acc:0.943 test_acc:0.911\n",
      "epoch: 403 traing_acc:0.943 test_acc:0.933\n",
      "epoch: 404 traing_acc:0.943 test_acc:0.933\n",
      "epoch: 405 traing_acc:0.819 test_acc:0.844\n",
      "epoch: 406 traing_acc:0.838 test_acc:0.889\n",
      "epoch: 407 traing_acc:0.857 test_acc:0.933\n",
      "epoch: 408 traing_acc:0.886 test_acc:0.911\n",
      "epoch: 409 traing_acc:0.914 test_acc:0.911\n",
      "epoch: 410 traing_acc:0.943 test_acc:0.911\n",
      "epoch: 411 traing_acc:0.943 test_acc:0.911\n",
      "epoch: 412 traing_acc:0.943 test_acc:0.911\n",
      "epoch: 413 traing_acc:0.943 test_acc:0.911\n",
      "epoch: 414 traing_acc:0.943 test_acc:0.933\n",
      "epoch: 415 traing_acc:0.943 test_acc:0.933\n",
      "epoch: 416 traing_acc:0.905 test_acc:0.933\n",
      "epoch: 417 traing_acc:0.924 test_acc:0.911\n",
      "epoch: 418 traing_acc:0.924 test_acc:0.911\n",
      "epoch: 419 traing_acc:0.924 test_acc:0.911\n",
      "epoch: 420 traing_acc:0.933 test_acc:0.911\n",
      "epoch: 421 traing_acc:0.933 test_acc:0.911\n",
      "epoch: 422 traing_acc:0.933 test_acc:0.911\n",
      "epoch: 423 traing_acc:0.933 test_acc:0.933\n",
      "epoch: 424 traing_acc:0.933 test_acc:0.933\n",
      "epoch: 425 traing_acc:0.905 test_acc:0.933\n",
      "epoch: 426 traing_acc:0.933 test_acc:0.911\n",
      "epoch: 427 traing_acc:0.933 test_acc:0.911\n",
      "epoch: 428 traing_acc:0.933 test_acc:0.933\n",
      "epoch: 429 traing_acc:0.933 test_acc:0.933\n",
      "epoch: 430 traing_acc:0.905 test_acc:0.933\n",
      "epoch: 431 traing_acc:0.933 test_acc:0.933\n",
      "epoch: 432 traing_acc:0.905 test_acc:0.933\n",
      "epoch: 433 traing_acc:0.905 test_acc:0.911\n",
      "epoch: 434 traing_acc:0.924 test_acc:0.911\n",
      "epoch: 435 traing_acc:0.943 test_acc:0.911\n",
      "epoch: 436 traing_acc:0.943 test_acc:0.911\n",
      "epoch: 437 traing_acc:0.943 test_acc:0.933\n",
      "epoch: 438 traing_acc:0.943 test_acc:0.933\n",
      "epoch: 439 traing_acc:0.848 test_acc:0.867\n",
      "epoch: 440 traing_acc:0.848 test_acc:0.889\n",
      "epoch: 441 traing_acc:0.876 test_acc:0.933\n",
      "epoch: 442 traing_acc:0.905 test_acc:0.933\n",
      "epoch: 443 traing_acc:0.924 test_acc:0.911\n",
      "epoch: 444 traing_acc:0.933 test_acc:0.911\n",
      "epoch: 445 traing_acc:0.943 test_acc:0.911\n",
      "epoch: 446 traing_acc:0.943 test_acc:0.911\n",
      "epoch: 447 traing_acc:0.943 test_acc:0.911\n",
      "epoch: 448 traing_acc:0.943 test_acc:0.933\n",
      "epoch: 449 traing_acc:0.943 test_acc:0.933\n",
      "epoch: 450 traing_acc:0.848 test_acc:0.867\n",
      "epoch: 451 traing_acc:0.848 test_acc:0.889\n",
      "epoch: 452 traing_acc:0.876 test_acc:0.933\n",
      "epoch: 453 traing_acc:0.905 test_acc:0.911\n",
      "epoch: 454 traing_acc:0.924 test_acc:0.911\n",
      "epoch: 455 traing_acc:0.943 test_acc:0.911\n",
      "epoch: 456 traing_acc:0.943 test_acc:0.911\n",
      "epoch: 457 traing_acc:0.943 test_acc:0.911\n",
      "epoch: 458 traing_acc:0.943 test_acc:0.933\n",
      "epoch: 459 traing_acc:0.943 test_acc:0.933\n",
      "epoch: 460 traing_acc:0.848 test_acc:0.867\n",
      "epoch: 461 traing_acc:0.848 test_acc:0.889\n",
      "epoch: 462 traing_acc:0.876 test_acc:0.933\n",
      "epoch: 463 traing_acc:0.895 test_acc:0.911\n",
      "epoch: 464 traing_acc:0.924 test_acc:0.911\n",
      "epoch: 465 traing_acc:0.943 test_acc:0.911\n",
      "epoch: 466 traing_acc:0.943 test_acc:0.911\n",
      "epoch: 467 traing_acc:0.943 test_acc:0.911\n",
      "epoch: 468 traing_acc:0.943 test_acc:0.933\n",
      "epoch: 469 traing_acc:0.943 test_acc:0.933\n",
      "epoch: 470 traing_acc:0.952 test_acc:0.933\n",
      "epoch: 471 traing_acc:0.838 test_acc:0.867\n",
      "epoch: 472 traing_acc:0.857 test_acc:0.889\n",
      "epoch: 473 traing_acc:0.886 test_acc:0.933\n",
      "epoch: 474 traing_acc:0.895 test_acc:0.911\n",
      "epoch: 475 traing_acc:0.924 test_acc:0.911\n",
      "epoch: 476 traing_acc:0.943 test_acc:0.911\n",
      "epoch: 477 traing_acc:0.943 test_acc:0.911\n",
      "epoch: 478 traing_acc:0.943 test_acc:0.911\n",
      "epoch: 479 traing_acc:0.943 test_acc:0.933\n",
      "epoch: 480 traing_acc:0.943 test_acc:0.933\n",
      "epoch: 481 traing_acc:0.838 test_acc:0.867\n",
      "epoch: 482 traing_acc:0.848 test_acc:0.889\n",
      "epoch: 483 traing_acc:0.886 test_acc:0.933\n",
      "epoch: 484 traing_acc:0.895 test_acc:0.911\n",
      "epoch: 485 traing_acc:0.924 test_acc:0.911\n",
      "epoch: 486 traing_acc:0.943 test_acc:0.911\n",
      "epoch: 487 traing_acc:0.943 test_acc:0.911\n",
      "epoch: 488 traing_acc:0.943 test_acc:0.911\n",
      "epoch: 489 traing_acc:0.943 test_acc:0.933\n",
      "epoch: 490 traing_acc:0.943 test_acc:0.933\n",
      "epoch: 491 traing_acc:0.952 test_acc:0.933\n",
      "epoch: 492 traing_acc:0.838 test_acc:0.844\n",
      "epoch: 493 traing_acc:0.848 test_acc:0.889\n",
      "epoch: 494 traing_acc:0.876 test_acc:0.933\n",
      "epoch: 495 traing_acc:0.905 test_acc:0.911\n",
      "epoch: 496 traing_acc:0.924 test_acc:0.911\n",
      "epoch: 497 traing_acc:0.943 test_acc:0.911\n",
      "epoch: 498 traing_acc:0.943 test_acc:0.911\n",
      "epoch: 499 traing_acc:0.943 test_acc:0.933\n"
     ]
    }
   ],
   "source": [
    "#shuffle_index = np.array(range(0, X_train.shape[0]))\n",
    "total_acc_train = []\n",
    "total_acc_test = []\n",
    "\n",
    "for epoch in range(500):\n",
    "    training_acc,test_acc = model(X_train,X_test,y_train,y_test)\n",
    "    total_acc_train.append(training_acc)\n",
    "    total_acc_test.append(test_acc)\n",
    "    print('epoch:', epoch, 'traing_acc:%.3f'%training_acc, 'test_acc:%.3f'%test_acc)\n",
    "    #print('w:',w)"
   ]
  },
  {
   "cell_type": "code",
   "execution_count": 16,
   "metadata": {},
   "outputs": [
    {
     "data": {
      "text/plain": [
       "[<matplotlib.lines.Line2D at 0x11547f208>]"
      ]
     },
     "execution_count": 16,
     "metadata": {},
     "output_type": "execute_result"
    },
    {
     "data": {
      "text/plain": [
       "[<matplotlib.lines.Line2D at 0x11547f7f0>]"
      ]
     },
     "execution_count": 16,
     "metadata": {},
     "output_type": "execute_result"
    },
    {
     "data": {
      "text/plain": [
       "<matplotlib.legend.Legend at 0x11547f828>"
      ]
     },
     "execution_count": 16,
     "metadata": {},
     "output_type": "execute_result"
    },
    {
     "data": {
      "text/plain": [
       "(0, 1)"
      ]
     },
     "execution_count": 16,
     "metadata": {},
     "output_type": "execute_result"
    },
    {
     "data": {
      "text/plain": [
       "(0, 200)"
      ]
     },
     "execution_count": 16,
     "metadata": {},
     "output_type": "execute_result"
    },
    {
     "data": {
      "image/png": "[encoded data removed]",
      "text/plain": [
       "<Figure size 432x288 with 1 Axes>"
      ]
     },
     "metadata": {},
     "output_type": "display_data"
    }
   ],
   "source": [
    "train_acc = np.array(total_acc_train)\n",
    "test_acc = np.array(total_acc_test)\n",
    "plt.plot(train_acc)\n",
    "plt.plot(test_acc)\n",
    "plt.legend(['train_acc', 'test_acc'])\n",
    "\n",
    "plt.ylim(0,1)\n",
    "plt.xlim(0,200)\n",
    "\n",
    "plt.show()"
   ]
  },
  {
   "cell_type": "code",
   "execution_count": 17,
   "metadata": {},
   "outputs": [
    {
     "data": {
      "text/plain": [
       "(0.9428571428571428, 0.9333333333333333)"
      ]
     },
     "execution_count": 17,
     "metadata": {},
     "output_type": "execute_result"
    }
   ],
   "source": [
    "d = model(X_train,X_test,y_train,y_test)\n",
    "d"
   ]
  },
  {
   "cell_type": "code",
   "execution_count": null,
   "metadata": {
    "collapsed": true
   },
   "outputs": [],
   "source": []
  },
  {
   "cell_type": "code",
   "execution_count": null,
   "metadata": {
    "collapsed": true
   },
   "outputs": [],
   "source": []
  },
  {
   "cell_type": "code",
   "execution_count": null,
   "metadata": {
    "collapsed": true
   },
   "outputs": [],
   "source": []
  },
  {
   "cell_type": "code",
   "execution_count": null,
   "metadata": {
    "collapsed": true
   },
   "outputs": [],
   "source": []
  },
  {
   "cell_type": "code",
   "execution_count": null,
   "metadata": {
    "collapsed": true
   },
   "outputs": [],
   "source": []
  },
  {
   "cell_type": "code",
   "execution_count": null,
   "metadata": {
    "collapsed": true
   },
   "outputs": [],
   "source": []
  },
  {
   "cell_type": "code",
   "execution_count": null,
   "metadata": {
    "collapsed": true
   },
   "outputs": [],
   "source": []
  },
  {
   "cell_type": "code",
   "execution_count": null,
   "metadata": {
    "collapsed": true
   },
   "outputs": [],
   "source": []
  },
  {
   "cell_type": "code",
   "execution_count": null,
   "metadata": {
    "collapsed": true
   },
   "outputs": [],
   "source": []
  },
  {
   "cell_type": "code",
   "execution_count": null,
   "metadata": {
    "collapsed": true
   },
   "outputs": [],
   "source": []
  },
  {
   "cell_type": "code",
   "execution_count": null,
   "metadata": {
    "collapsed": true
   },
   "outputs": [],
   "source": []
  },
  {
   "cell_type": "code",
   "execution_count": null,
   "metadata": {
    "collapsed": true
   },
   "outputs": [],
   "source": []
  },
  {
   "cell_type": "code",
   "execution_count": null,
   "metadata": {
    "collapsed": true
   },
   "outputs": [],
   "source": []
  },
  {
   "cell_type": "code",
   "execution_count": null,
   "metadata": {
    "collapsed": true
   },
   "outputs": [],
   "source": []
  },
  {
   "cell_type": "code",
   "execution_count": null,
   "metadata": {
    "collapsed": true
   },
   "outputs": [],
   "source": []
  },
  {
   "cell_type": "code",
   "execution_count": null,
   "metadata": {
    "collapsed": true
   },
   "outputs": [],
   "source": []
  },
  {
   "cell_type": "code",
   "execution_count": null,
   "metadata": {
    "collapsed": true
   },
   "outputs": [],
   "source": []
  },
  {
   "cell_type": "code",
   "execution_count": null,
   "metadata": {
    "collapsed": true
   },
   "outputs": [],
   "source": []
  },
  {
   "cell_type": "code",
   "execution_count": null,
   "metadata": {
    "collapsed": true
   },
   "outputs": [],
   "source": []
  },
  {
   "cell_type": "code",
   "execution_count": null,
   "metadata": {
    "collapsed": true
   },
   "outputs": [],
   "source": []
  },
  {
   "cell_type": "code",
   "execution_count": null,
   "metadata": {
    "collapsed": true
   },
   "outputs": [],
   "source": []
  },
  {
   "cell_type": "code",
   "execution_count": 66,
   "metadata": {},
   "outputs": [
    {
     "data": {
      "text/plain": [
       "array([6])"
      ]
     },
     "execution_count": 66,
     "metadata": {},
     "output_type": "execute_result"
    }
   ],
   "source": [
    "a=np.array([1,2,3])\n",
    "score = np.array([1,2,6])\n",
    "score[np.where(score == score.max())]"
   ]
  },
  {
   "cell_type": "code",
   "execution_count": null,
   "metadata": {
    "collapsed": true
   },
   "outputs": [],
   "source": []
  },
  {
   "cell_type": "code",
   "execution_count": null,
   "metadata": {
    "collapsed": true
   },
   "outputs": [],
   "source": []
  },
  {
   "cell_type": "code",
   "execution_count": null,
   "metadata": {
    "collapsed": true
   },
   "outputs": [],
   "source": []
  },
  {
   "cell_type": "code",
   "execution_count": null,
   "metadata": {
    "collapsed": true
   },
   "outputs": [],
   "source": []
  },
  {
   "cell_type": "code",
   "execution_count": null,
   "metadata": {
    "collapsed": true
   },
   "outputs": [],
   "source": []
  },
  {
   "cell_type": "code",
   "execution_count": 67,
   "metadata": {},
   "outputs": [
    {
     "data": {
      "text/plain": [
       "array([[1., 1., 1.],\n",
       "       [1., 1., 1.],\n",
       "       [1., 1., 1.],\n",
       "       [1., 1., 1.]])"
      ]
     },
     "execution_count": 67,
     "metadata": {},
     "output_type": "execute_result"
    },
    {
     "data": {
      "text/plain": [
       "array([[0., 0., 0., 0.]])"
      ]
     },
     "execution_count": 67,
     "metadata": {},
     "output_type": "execute_result"
    },
    {
     "data": {
      "text/plain": [
       "array([[1., 1., 1.],\n",
       "       [1., 1., 1.],\n",
       "       [1., 1., 1.],\n",
       "       [1., 1., 1.]])"
      ]
     },
     "execution_count": 67,
     "metadata": {},
     "output_type": "execute_result"
    }
   ],
   "source": [
    "w = np.ones((4,3))\n",
    "x = np.zeros((1,4))\n",
    "w\n",
    "x\n",
    "w - x.T"
   ]
  },
  {
   "cell_type": "code",
   "execution_count": null,
   "metadata": {
    "collapsed": true
   },
   "outputs": [],
   "source": []
  },
  {
   "cell_type": "code",
   "execution_count": null,
   "metadata": {
    "collapsed": true
   },
   "outputs": [],
   "source": []
  },
  {
   "cell_type": "code",
   "execution_count": null,
   "metadata": {
    "collapsed": true
   },
   "outputs": [],
   "source": []
  },
  {
   "cell_type": "code",
   "execution_count": null,
   "metadata": {
    "collapsed": true
   },
   "outputs": [],
   "source": []
  },
  {
   "cell_type": "code",
   "execution_count": null,
   "metadata": {
    "collapsed": true
   },
   "outputs": [],
   "source": []
  },
  {
   "cell_type": "code",
   "execution_count": null,
   "metadata": {
    "collapsed": true
   },
   "outputs": [],
   "source": []
  },
  {
   "cell_type": "code",
   "execution_count": null,
   "metadata": {
    "collapsed": true
   },
   "outputs": [],
   "source": []
  },
  {
   "cell_type": "code",
   "execution_count": null,
   "metadata": {
    "collapsed": true
   },
   "outputs": [],
   "source": []
  },
  {
   "cell_type": "code",
   "execution_count": null,
   "metadata": {
    "collapsed": true
   },
   "outputs": [],
   "source": []
  },
  {
   "cell_type": "code",
   "execution_count": null,
   "metadata": {
    "collapsed": true
   },
   "outputs": [],
   "source": []
  },
  {
   "cell_type": "code",
   "execution_count": null,
   "metadata": {
    "collapsed": true
   },
   "outputs": [],
   "source": []
  },
  {
   "cell_type": "code",
   "execution_count": null,
   "metadata": {
    "collapsed": true
   },
   "outputs": [],
   "source": []
  },
  {
   "cell_type": "code",
   "execution_count": null,
   "metadata": {
    "collapsed": true
   },
   "outputs": [],
   "source": []
  },
  {
   "cell_type": "code",
   "execution_count": null,
   "metadata": {
    "collapsed": true
   },
   "outputs": [],
   "source": []
  },
  {
   "cell_type": "code",
   "execution_count": null,
   "metadata": {
    "collapsed": true
   },
   "outputs": [],
   "source": []
  },
  {
   "cell_type": "code",
   "execution_count": null,
   "metadata": {
    "collapsed": true
   },
   "outputs": [],
   "source": []
  },
  {
   "cell_type": "code",
   "execution_count": null,
   "metadata": {
    "collapsed": true
   },
   "outputs": [],
   "source": []
  },
  {
   "cell_type": "code",
   "execution_count": null,
   "metadata": {
    "collapsed": true
   },
   "outputs": [],
   "source": []
  },
  {
   "cell_type": "code",
   "execution_count": null,
   "metadata": {
    "collapsed": true
   },
   "outputs": [],
   "source": []
  },
  {
   "cell_type": "code",
   "execution_count": null,
   "metadata": {
    "collapsed": true
   },
   "outputs": [],
   "source": []
  },
  {
   "cell_type": "code",
   "execution_count": null,
   "metadata": {
    "collapsed": true
   },
   "outputs": [],
   "source": []
  },
  {
   "cell_type": "code",
   "execution_count": null,
   "metadata": {
    "collapsed": true
   },
   "outputs": [],
   "source": []
  }
 ],
 "metadata": {
  "kernelspec": {
   "display_name": "Python [default]",
   "language": "python",
   "name": "python3"
  },
  "language_info": {
   "codemirror_mode": {
    "name": "ipython",
    "version": 3
   },
   "file_extension": ".py",
   "mimetype": "text/x-python",
   "name": "python",
   "nbconvert_exporter": "python",
   "pygments_lexer": "ipython3",
   "version": "3.6.3"
  }
 },
 "nbformat": 4,
 "nbformat_minor": 2
}
